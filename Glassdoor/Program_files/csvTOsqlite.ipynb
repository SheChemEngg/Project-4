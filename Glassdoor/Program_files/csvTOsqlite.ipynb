{
 "cells": [
  {
   "cell_type": "markdown",
   "id": "ff015b0b-8e2e-436f-a85b-d527168a6d6e",
   "metadata": {},
   "source": [
    "### Upload A CSV File (Or Any Data File) To SQLite Using Python\n",
    "https://www.youtube.com/watch?v=UZIhVmkrAEs  : Jie Jenn"
   ]
  },
  {
   "cell_type": "code",
   "execution_count": 1,
   "id": "cfb99a08-105f-4bc8-acf3-2ecf1b82f69c",
   "metadata": {},
   "outputs": [],
   "source": [
    "import sqlite3\n",
    "import pandas as pd"
   ]
  },
  {
   "cell_type": "code",
   "execution_count": 2,
   "id": "12e46a55-e537-431a-adf9-ac6ed8a171c5",
   "metadata": {},
   "outputs": [],
   "source": [
    "# Step 1.  Load data file\n",
    "# glassdoor_clean = pd.read_csv(\"..\\Resources\\glassdoor.csv\")\n",
    "glassdoor = pd.read_csv(\"C:\\A_Sheena\\Cyber\\Module_16Pj3\\Project_3\\Resources\\glassdoor.csv\")"
   ]
  },
  {
   "cell_type": "code",
   "execution_count": 3,
   "id": "1b0ba7b7-f73e-48f6-981c-21c7c198b1b1",
   "metadata": {},
   "outputs": [],
   "source": [
    "# Step 2.  Data Clean-Up\n",
    "glassdoor.columns = glassdoor.columns.str.strip()"
   ]
  },
  {
   "cell_type": "code",
   "execution_count": 4,
   "id": "bd017e9a-f633-49e6-93fc-c13344f0482e",
   "metadata": {},
   "outputs": [],
   "source": [
    "# # Step 3.  Create/connect to a SQLite database\n",
    "# connection = sqlite3.connect('C:\\A_Sheena\\Cyber\\Module_16Pj3\\Project_3\\Resources\\glassdoor_jobs.db')\n",
    "connection = sqlite3.connect('C:\\A_Sheena\\Cyber\\Module_16Pj3\\Project_3\\Resources\\glassdoor_jobs.sqlite')"
   ]
  },
  {
   "cell_type": "code",
   "execution_count": 5,
   "id": "1d33d85b-3bcd-4280-adcf-938325cae91b",
   "metadata": {},
   "outputs": [
    {
     "data": {
      "text/plain": [
       "742"
      ]
     },
     "execution_count": 5,
     "metadata": {},
     "output_type": "execute_result"
    }
   ],
   "source": [
    "# Step 4.  Load data file to SQLite\n",
    "# fail; replace; append\n",
    "glassdoor.to_sql('glassdoor', connection, if_exists = 'replace')\n"
   ]
  },
  {
   "cell_type": "code",
   "execution_count": 6,
   "id": "eb1acc06-4fa8-43ff-a234-8b48799bbc39",
   "metadata": {},
   "outputs": [
    {
     "data": {
      "text/plain": [
       "Index(['job_state', 'job_region', 'Sector', 'Company_Age', 'Avg_Company_Size',\n",
       "       'Job_Title', 'Avg_Salary', 'Max_Salary', 'Usr_Rating', 'Python_y_n',\n",
       "       'R_y_n', 'Spark_y_n', 'AWS_y_n', 'Excel_y_n'],\n",
       "      dtype='object')"
      ]
     },
     "execution_count": 6,
     "metadata": {},
     "output_type": "execute_result"
    }
   ],
   "source": [
    "glassdoor.columns"
   ]
  },
  {
   "cell_type": "code",
   "execution_count": 7,
   "id": "699f2648-8124-4457-a5a9-4ad92dcf7726",
   "metadata": {},
   "outputs": [],
   "source": [
    "# Step 5.  Close connection\n",
    "connection.close()"
   ]
  },
  {
   "cell_type": "code",
   "execution_count": null,
   "id": "5db0edae-b296-4f9b-88c4-16cd36e9810f",
   "metadata": {},
   "outputs": [],
   "source": []
  }
 ],
 "metadata": {
  "kernelspec": {
   "display_name": "Python 3 (ipykernel)",
   "language": "python",
   "name": "python3"
  },
  "language_info": {
   "codemirror_mode": {
    "name": "ipython",
    "version": 3
   },
   "file_extension": ".py",
   "mimetype": "text/x-python",
   "name": "python",
   "nbconvert_exporter": "python",
   "pygments_lexer": "ipython3",
   "version": "3.11.3"
  }
 },
 "nbformat": 4,
 "nbformat_minor": 5
}
